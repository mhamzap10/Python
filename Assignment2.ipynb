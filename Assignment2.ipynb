{
 "cells": [
  {
   "cell_type": "code",
   "execution_count": 3,
   "metadata": {},
   "outputs": [
    {
     "name": "stdout",
     "output_type": "stream",
     "text": [
      "Hens = 23 and Rabbits = 12\n"
     ]
    }
   ],
   "source": [
    "#1 Solve a Classin chinese ancient Puzzle\n",
    "heads = 35\n",
    "legs = 94\n",
    "hens = 1\n",
    "rabbits = 0\n",
    "for hens in range(heads+1):\n",
    "    rabbits = heads-hens\n",
    "    if (2*hens)+(4*rabbits) == legs:\n",
    "        print (\"Hens = {} and Rabbits = {}\".format(hens,rabbits))"
   ]
  },
  {
   "cell_type": "code",
   "execution_count": 2,
   "metadata": {},
   "outputs": [
    {
     "name": "stdout",
     "output_type": "stream",
     "text": [
      "Enter Text: Haeflhlzoz aWkodrhlbdg!\n",
      "Hello World!\n"
     ]
    }
   ],
   "source": [
    "#2 print character from a string that have even indexes\n",
    "text = input (\"Enter Text: \")\n",
    "print(text[::2])"
   ]
  },
  {
   "cell_type": "code",
   "execution_count": 3,
   "metadata": {},
   "outputs": [
    {
     "name": "stdout",
     "output_type": "stream",
     "text": [
      "Enter Text: Hamza\n",
      "azmaH\n"
     ]
    }
   ],
   "source": [
    "#3. Print String in Reverse Order\n",
    "Text = input (\"Enter Text: \")\n",
    "print(Text[::-1])"
   ]
  },
  {
   "cell_type": "code",
   "execution_count": 40,
   "metadata": {},
   "outputs": [
    {
     "name": "stdout",
     "output_type": "stream",
     "text": [
      "Enter Text: Google\n",
      "{'G': 1, 'o': 2, 'g': 1, 'l': 1, 'e': 1}\n"
     ]
    }
   ],
   "source": [
    "#4. Count number of characters in a string\n",
    "Text = input(\"Enter Text: \")\n",
    "count = {}\n",
    "for i in Text:\n",
    "    Keys = count.keys()\n",
    "    if i in Keys:\n",
    "        count[i] += 1\n",
    "    else:\n",
    "        count[i] = 1\n",
    "print(count)\n",
    "    "
   ]
  },
  {
   "cell_type": "code",
   "execution_count": 18,
   "metadata": {},
   "outputs": [
    {
     "name": "stdout",
     "output_type": "stream",
     "text": [
      "Area of a Square is: 4\n"
     ]
    }
   ],
   "source": [
    "#5. Define Class Shape and Sub class Square:\n",
    "class Shape():\n",
    "    def __init__(self,length = 0):\n",
    "        self.length = length\n",
    "    def Area(self):\n",
    "        print(\"Area of Shape is 0\")\n",
    "class Square (Shape):\n",
    "    def __init__(self,length = 0):\n",
    "        self.length = length\n",
    "    def Area(self):\n",
    "        self.area = self.length*self.length\n",
    "        print(\"Area of a Square is: {}\".format(self.area))\n",
    "s1 = Square(2)\n",
    "s1.Area()\n",
    "\n",
    "    \n",
    "    "
   ]
  },
  {
   "cell_type": "code",
   "execution_count": 15,
   "metadata": {},
   "outputs": [
    {
     "name": "stdout",
     "output_type": "stream",
     "text": [
      "5 cannot be divided by O\n"
     ]
    }
   ],
   "source": [
    "#6. Function to compute 5/0 using try except\n",
    "try:\n",
    "    print(\"Division = {}\".format(5/0))\n",
    "except ZeroDivisionError:\n",
    "    print (\"5 cannot be divided by O\")"
   ]
  },
  {
   "cell_type": "code",
   "execution_count": 16,
   "metadata": {},
   "outputs": [
    {
     "name": "stdout",
     "output_type": "stream",
     "text": [
      "Enter Email: Hamza@gmail.com\n",
      "Username: Hamza\n"
     ]
    }
   ],
   "source": [
    "#7. Print UserName from Given Email Address:\n",
    "Email = input (\"Enter Email: \")\n",
    "username = Email.split(\"@\")\n",
    "print(\"Username: {}\".format(username[0]))"
   ]
  },
  {
   "cell_type": "code",
   "execution_count": 20,
   "metadata": {},
   "outputs": [
    {
     "name": "stdout",
     "output_type": "stream",
     "text": [
      "Enter Text: 5 cars 2 bikes and 7 trucks are sold out\n",
      "Digits used in given strings are: 5 2 7 \n"
     ]
    }
   ],
   "source": [
    "#8. Accept the String and print the words composed of digits only\n",
    "Text = input (\"Enter Text: \")\n",
    "Digits = \"\"\n",
    "for i in Text:\n",
    "    if i.isnumeric():\n",
    "        Digits +=i+\" \"\n",
    "print(\"Digits used in given strings are: {}\".format(Digits))\n",
    "        "
   ]
  },
  {
   "cell_type": "code",
   "execution_count": 22,
   "metadata": {},
   "outputs": [
    {
     "name": "stdout",
     "output_type": "stream",
     "text": [
      "Enter Number: 5\n",
      "Sum: 3.55\n"
     ]
    }
   ],
   "source": [
    "#9.  program to compute 1/2+2/3+3/4+...+n/n+1 with a given n input by console (n>0).\n",
    "num = int (input (\"Enter Number: \"))\n",
    "sum = 0\n",
    "for i in range(num+1):\n",
    "    sum += float(i/(i+1))\n",
    "print (\"Sum: {:.2f}\".format(sum))\n",
    "    "
   ]
  },
  {
   "cell_type": "code",
   "execution_count": 18,
   "metadata": {},
   "outputs": [
    {
     "name": "stdout",
     "output_type": "stream",
     "text": [
      "Enter Number: 5\n",
      "f(n-1)+100 =  500\n"
     ]
    }
   ],
   "source": [
    "#10. program to compute: f(n)=f(n-1)+100 when n>0 and f(0)=1\n",
    "def f(n):\n",
    "    if n == 0 :\n",
    "        return 0\n",
    "    else:\n",
    "        return f(n-1)+100\n",
    "n = int(input(\"Enter Number: \"))\n",
    "print(\"f(n-1)+100 = \", f(n))"
   ]
  },
  {
   "cell_type": "code",
   "execution_count": 14,
   "metadata": {},
   "outputs": [
    {
     "name": "stdout",
     "output_type": "stream",
     "text": [
      "Enter Passwords which are seperated by \",\": ABd1234@1,a F1#,2w3E*,2We3345\n",
      "ABd1234@1\n"
     ]
    }
   ],
   "source": [
    "#11. Password match the required criteria:\n",
    "def PasswordMatchCriteria(pas):\n",
    "    upper,lower,special,num = 0,0,0,0  \n",
    "    for x in pas:\n",
    "        if (len(pas) >= 6) and (len(pas) <=12):\n",
    "            if x.isupper():\n",
    "                upper+=1\n",
    "            elif x.islower():\n",
    "                lower+=1\n",
    "            elif x.isnumeric():\n",
    "                num +=1\n",
    "            elif x.isspace():\n",
    "                j = 0\n",
    "            else:\n",
    "                special += 1\n",
    "    if (upper > 0) and (lower > 0) and (special > 0) and (num > 0):\n",
    "        return True\n",
    "    else:\n",
    "        False\n",
    "passwords = input(\"Enter Passwords which are seperated by \\\",\\\": \")\n",
    "password = passwords.split(\",\")\n",
    "for i in password:\n",
    "    if PasswordMatchCriteria(i):\n",
    "        print(i)"
   ]
  },
  {
   "cell_type": "code",
   "execution_count": 38,
   "metadata": {},
   "outputs": [
    {
     "name": "stdout",
     "output_type": "stream",
     "text": [
      "Enter Data: Hamza,12,87\n",
      "Enter Data: Ali,20,98\n",
      "Enter Data: Ali,20,93\n",
      "Enter Data: Bilal,17,78\n",
      "Enter Data: \n",
      "[('Ali', '20', '93'), ('Ali', '20', '98'), ('Bilal', '17', '78'), ('Hamza', '12', '87')]\n"
     ]
    }
   ],
   "source": [
    "#12. Sorting Data: (name, age, height)\n",
    "from operator import itemgetter\n",
    "\n",
    "Data = []\n",
    "while True:\n",
    "    Personal = input(\"Enter Data: \")\n",
    "\n",
    "    if Personal == \"\":\n",
    "        break\n",
    "    else:\n",
    "        Data.append(tuple((Personal.split(\",\"))))\n",
    "\n",
    "Data.sort(key =  itemgetter(0, 1, 2))       \n",
    "print(Data)"
   ]
  },
  {
   "cell_type": "code",
   "execution_count": 37,
   "metadata": {},
   "outputs": [
    {
     "name": "stdout",
     "output_type": "stream",
     "text": [
      "Enter Number: 100\n",
      "0 7 14 21 28 35 42 49 56 63 70 77 84 91 98 "
     ]
    }
   ],
   "source": [
    "#13. Define a function with a generator which can iterate the numbers, which are divisible by 7, between a given range 0 and n.\n",
    "def Generator(n):\n",
    "    for i in range(n+1):\n",
    "        if i%7 == 0:\n",
    "            yield i\n",
    "n = int(input(\"Enter Number: \"))\n",
    "for i in Generator(n):\n",
    "    print(i,end = \" \")"
   ]
  },
  {
   "cell_type": "code",
   "execution_count": 8,
   "metadata": {},
   "outputs": [
    {
     "name": "stdout",
     "output_type": "stream",
     "text": [
      "Distance:  2\n"
     ]
    }
   ],
   "source": [
    "#14. write a program to compute the distance from current position after a sequence of movement and original point:\n",
    "UP , Down , Left , Right = 5, 3, 3, 2\n",
    "distance = int ((((Left - Right)**2) + ((UP - Down)**2))**0.5)\n",
    "print(\"Distance: \", distance)"
   ]
  },
  {
   "cell_type": "code",
   "execution_count": 6,
   "metadata": {},
   "outputs": [
    {
     "name": "stdout",
     "output_type": "stream",
     "text": [
      "Enter Text: I have 2 pens and 2 apples and 3 pens and 3 apples\n",
      "[(' ', 12), ('2', 2), ('3', 2), ('I', 1), ('a', 6), ('d', 3), ('e', 5), ('h', 1), ('l', 2), ('n', 5), ('p', 6), ('s', 4), ('v', 1)]\n"
     ]
    }
   ],
   "source": [
    "#15. Compute the frequency of the words from input and sort it by alphanumerically\n",
    "Text = input(\"Enter Text: \")\n",
    "data = {}\n",
    "for i in Text:\n",
    "    Keys = data.keys()\n",
    "    if i in Keys:\n",
    "        data[i] += 1\n",
    "    else:\n",
    "        data[i] = 1\n",
    "print(sorted(data.items()))"
   ]
  }
 ],
 "metadata": {
  "kernelspec": {
   "display_name": "Python 3",
   "language": "python",
   "name": "python3"
  },
  "language_info": {
   "codemirror_mode": {
    "name": "ipython",
    "version": 3
   },
   "file_extension": ".py",
   "mimetype": "text/x-python",
   "name": "python",
   "nbconvert_exporter": "python",
   "pygments_lexer": "ipython3",
   "version": "3.7.3"
  }
 },
 "nbformat": 4,
 "nbformat_minor": 2
}

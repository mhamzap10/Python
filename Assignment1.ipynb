{
 "cells": [
  {
   "cell_type": "code",
   "execution_count": 4,
   "metadata": {},
   "outputs": [
    {
     "name": "stdout",
     "output_type": "stream",
     "text": [
      "Enter Radius2\n",
      "Area of circle radius of 2 is 6.28\n"
     ]
    }
   ],
   "source": [
    "# 1. Calculate Area of a Circle\n",
    "radius = int (input (\"Enter Radius\"))\n",
    "print (\"Area of circle radius of {} is {}\".format(radius,3.14*radius))"
   ]
  },
  {
   "cell_type": "code",
   "execution_count": 8,
   "metadata": {},
   "outputs": [
    {
     "name": "stdout",
     "output_type": "stream",
     "text": [
      "Enter Integer Number: 5\n",
      "Positive Number Entered\n"
     ]
    }
   ],
   "source": [
    "# 2. Check number either positive , negative or zero\n",
    "num = int (input (\"Enter Integer Number: \"))\n",
    "if num == 0:\n",
    "    print (\"Zero Entered\")\n",
    "elif num > 0:\n",
    "    print (\"Positive Number Entered\")\n",
    "elif num < 0:\n",
    "    print (\"Negative Number Entered\")"
   ]
  },
  {
   "cell_type": "code",
   "execution_count": 10,
   "metadata": {},
   "outputs": [
    {
     "name": "stdout",
     "output_type": "stream",
     "text": [
      "Enter Nominator: 7\n",
      "Enter Denominator: 3\n",
      "7 is not completely Divisible by 3\n"
     ]
    }
   ],
   "source": [
    "# 3. Divisibility Check of 2 numbers\n",
    "nominator = int (input (\"Enter Nominator: \"))\n",
    "denominator = int (input (\"Enter Denominator: \"))\n",
    "if nominator % denominator == 0:\n",
    "    print(\"{} is completely Divisible by {}\".format(nominator, denominator))\n",
    "else:\n",
    "    print (\"{} is not completely Divisible by {}\".format(nominator, denominator))\n",
    "\n"
   ]
  },
  {
   "cell_type": "code",
   "execution_count": 12,
   "metadata": {},
   "outputs": [
    {
     "name": "stdout",
     "output_type": "stream",
     "text": [
      "Enter Date in format (dd/mm/yy): 12/12/2018\n",
      "Enter Date in format (dd/mm/yy): 16/12/2018\n",
      "Total Days between Date: 12/12/2018 and Date: 16/12/2018 is 4\n"
     ]
    }
   ],
   "source": [
    "# 4. Calculate Number of dates between two Dates\n",
    "def DaysBetweenTwoMonths(month1,month2):\n",
    "    days = 0\n",
    "    for i in range(month1+1,month2+1):\n",
    "        if i == 6:\n",
    "            days += 31\n",
    "        elif i == 2:\n",
    "            days += 28\n",
    "        elif i%2 == 0 :\n",
    "            days+=30\n",
    "        else:\n",
    "            days+= 31\n",
    "    return days\n",
    "date1 = input (\"Enter Date in format (dd/mm/yy): \")\n",
    "date2 = input (\"Enter Date in format (dd/mm/yy): \")\n",
    "dt1 = date1.split(\"/\")\n",
    "dt2 = date2.split(\"/\")\n",
    "day1 = int (dt1[0]) \n",
    "day2 = int (dt2[0])\n",
    "month1 = int(dt1[1])\n",
    "month2 = int(dt2[1])\n",
    "year1 = int(dt1[2])\n",
    "year2 = int(dt2[2])\n",
    "days1 = abs(day2-day1)\n",
    "days2 = DaysBetweenTwoMonths(month1,month2)\n",
    "days3 = abs(year2-year1)*365\n",
    "print(\"Total Days between Date: {} and Date: {} is {}\".format(date1,date2,(days1+days2+days3)))"
   ]
  },
  {
   "cell_type": "code",
   "execution_count": 21,
   "metadata": {},
   "outputs": [
    {
     "name": "stdout",
     "output_type": "stream",
     "text": [
      "Enter Radius of Sphere4\n",
      "Volume of Spehere having radius 4.0 is 267.95 \n"
     ]
    }
   ],
   "source": [
    "#5. Calculate Volume of Sphere\n",
    "radius = float (input (\"Enter Radius of Sphere\"))\n",
    "volume = (4/3)*3.14*(radius*radius*radius)\n",
    "print (\"Volume of Spehere having radius {} is {:.2f} \".format(radius, volume))"
   ]
  },
  {
   "cell_type": "code",
   "execution_count": 24,
   "metadata": {},
   "outputs": [
    {
     "name": "stdout",
     "output_type": "stream",
     "text": [
      "Enter StringHamza\n",
      "How many times you want to copy a string4\n",
      "HamzaHamzaHamzaHamza  \n"
     ]
    }
   ],
   "source": [
    "#6. Copy String in n times\n",
    "name = input(\"Enter String\")\n",
    "num = int (input (\"How many times you want to copy a string\"))\n",
    "print (name * num )"
   ]
  },
  {
   "cell_type": "code",
   "execution_count": 26,
   "metadata": {},
   "outputs": [
    {
     "name": "stdout",
     "output_type": "stream",
     "text": [
      "Enter Number3\n",
      "Number is odd\n"
     ]
    }
   ],
   "source": [
    "#7. Check if number is even or odd\n",
    "num = int (input (\"Enter Number\"))\n",
    "print (\"Number is Even\") if num %2 == 0 else print (\"Number is odd\")"
   ]
  },
  {
   "cell_type": "code",
   "execution_count": 15,
   "metadata": {},
   "outputs": [
    {
     "name": "stdout",
     "output_type": "stream",
     "text": [
      "Enter a Single Character: O\n",
      "O is Vowel\n"
     ]
    }
   ],
   "source": [
    "#8. Check whether Entered caharacter is Vowel or not\n",
    "letter = input (\"Enter a Single Character: \")\n",
    "if letter == \"A\" or letter == \"a\" or letter == \"E\" or letter == \"e\" or letter == \"I\" or letter == \"i\" or letter == \"o\" or letter ==\"O\" or letter == \"U\" or letter == \"u\":\n",
    "    print (\"{} is Vowel\".format(letter))\n",
    "else:\n",
    "    print (\"{} is co nsonent (Not Vowel)\".format(letter))"
   ]
  },
  {
   "cell_type": "code",
   "execution_count": 1,
   "metadata": {},
   "outputs": [
    {
     "name": "stdout",
     "output_type": "stream",
     "text": [
      "Enter magnitude of Base of a Triangle4\n",
      "Enter magnitude of height of a Triangle2\n",
      "Area of Triangle is 8 having base 4 and height 2\n"
     ]
    }
   ],
   "source": [
    "# 9. Calculate Area of a Triangle\n",
    "base = int (input (\"Enter magnitude of Base of a Triangle\"))\n",
    "height = int (input (\"Enter magnitude of height of a Triangle\"))\n",
    "print (\"Area of Triangle is {} having base {} and height {}\".format(base*height, base, height))"
   ]
  },
  {
   "cell_type": "code",
   "execution_count": 1,
   "metadata": {},
   "outputs": [
    {
     "name": "stdout",
     "output_type": "stream",
     "text": [
      "Please Enter principal amount: 10000\n",
      "Please Enter Rate of Interest in %: 0.1\n",
      "Enter Number of Years for Investment5\n",
      "After 5 years your principal amount 10000 over an interest rate of 0.1% will be 15000.0 \n"
     ]
    }
   ],
   "source": [
    "# 10. Calculate Interest\n",
    "amount = int (input (\"Please Enter principal amount: \"))\n",
    "interestRate = float (input (\"Please Enter Rate of Interest in %: \"))\n",
    "year = int (input (\"Enter Number of Years for Investment\"))\n",
    "print (\"After {} years your principal amount {} over an interest rate of {}% will be {} \".format(year, amount , interestRate, float( amount*(1+(interestRate*year))) ))"
   ]
  },
  {
   "cell_type": "code",
   "execution_count": 5,
   "metadata": {},
   "outputs": [
    {
     "name": "stdout",
     "output_type": "stream",
     "text": [
      "Enter co-ordinate for x12\n",
      "Enter co-ordinate for x24\n",
      "Enter co-ordinate for y14\n",
      "Enter co-ordinate for y24\n",
      "Distance between points (2,4) and (4,4) is 2.0\n"
     ]
    }
   ],
   "source": [
    "# 11. Euclidean Distance\n",
    "x1 = int (input (\"Enter co-ordinate for x1: \"))\n",
    "y1 = int (input (\"Enter co-ordinate for x2: \"))\n",
    "x2 = int (input (\"Enter co-ordinate for y1: \"))\n",
    "y2 = int (input (\"Enter co-ordinate for y2: \"))\n",
    "distance = (((x2-x1)**2)+((y2-y1)**2))**0.5\n",
    "print(\"Distance between points ({},{}) and ({},{}) is {}\".format(x1,y1,x2,y2,distance))"
   ]
  },
  {
   "cell_type": "code",
   "execution_count": 1,
   "metadata": {},
   "outputs": [
    {
     "name": "stdout",
     "output_type": "stream",
     "text": [
      "Enter height in feet5\n",
      "There are 152.40 cm in 5 feet\n"
     ]
    }
   ],
   "source": [
    "#12. Feet to centimeter Converter\n",
    "height = int (input (\"Enter height in feet\"))\n",
    "print (\"There are {:.2f} cm in {} feet\".format(height*30.48,height))"
   ]
  },
  {
   "cell_type": "code",
   "execution_count": 5,
   "metadata": {},
   "outputs": [
    {
     "name": "stdout",
     "output_type": "stream",
     "text": [
      "Enter height in cm: 105.4\n",
      "Enter weight in Kg: 16.9\n",
      "Your BMI is 15.21\n"
     ]
    }
   ],
   "source": [
    "#13. BMI Calculator\n",
    "height = float (input (\"Enter height in cm: \"))\n",
    "weight = float (input (\"Enter weight in Kg: \"))\n",
    "print (\"Your BMI is {:.2f}\".format((weight/height/height)*10000))"
   ]
  },
  {
   "cell_type": "code",
   "execution_count": 10,
   "metadata": {},
   "outputs": [
    {
     "name": "stdout",
     "output_type": "stream",
     "text": [
      "Enter Value of n: 5\n",
      "Sum of n positive Integer till 5 is 15\n"
     ]
    }
   ],
   "source": [
    "# 14. Sum of n positive Integer\n",
    "n = int (input (\"Enter Value of n: \"))\n",
    "sum = 0\n",
    "x = 0\n",
    "while x != n+1: #because we need to include n in sum\n",
    "    sum += x\n",
    "    x+=1\n",
    "print(\"Sum of n positive Integer till {} is {}\".format(n,sum))\n",
    "        "
   ]
  },
  {
   "cell_type": "code",
   "execution_count": 11,
   "metadata": {},
   "outputs": [
    {
     "name": "stdout",
     "output_type": "stream",
     "text": [
      "Enter a number: 2468\n",
      "Sum of 2 + 4 + 6 + 8 is 20\n"
     ]
    }
   ],
   "source": [
    "# 15. Digit Sum of a number\n",
    "Digits = input(\"Enter a number: \")\n",
    "sum = int(Digits[0])\n",
    "number = Digits[0]\n",
    "for i in Digits[1::]:\n",
    "    sum+= int(i)\n",
    "    number +=\" + {}\".format(i)\n",
    "print(\"Sum of {} is {}\".format(number,sum))"
   ]
  },
  {
   "cell_type": "code",
   "execution_count": 43,
   "metadata": {},
   "outputs": [
    {
     "name": "stdout",
     "output_type": "stream",
     "text": [
      "Enter Number: 12\n",
      "Binary Equivalent of 12 is 1100\n"
     ]
    }
   ],
   "source": [
    "#16. Decimal to Binary Converter\n",
    "Decimal = input(\"Enter Number: \")\n",
    "num = int(Decimal)\n",
    "Binary =\"\"\n",
    "while num>=1:\n",
    "    i = num%2\n",
    "    num = num//2\n",
    "    Binary +=str(i)\n",
    "print (\"Binary Equivalent of {} is {}\".format(Decimal,Binary[::-1]))"
   ]
  },
  {
   "cell_type": "code",
   "execution_count": 44,
   "metadata": {},
   "outputs": [
    {
     "name": "stdout",
     "output_type": "stream",
     "text": [
      "Enter Binary Number: 1100\n",
      "Decimal Equivalent of 1100 is 12\n"
     ]
    }
   ],
   "source": [
    "#17. Binary to Decimal\n",
    "Binary = input(\"Enter Binary Number: \")\n",
    "Decimal = int(Binary,2)\n",
    "print(\"Decimal Equivalent of {} is {}\".format(Binary,Decimal))"
   ]
  },
  {
   "cell_type": "code",
   "execution_count": 29,
   "metadata": {},
   "outputs": [
    {
     "name": "stdout",
     "output_type": "stream",
     "text": [
      "Enter your Text: 11\n",
      "Vowel = 0 \n",
      "Consonet = 2\n"
     ]
    }
   ],
   "source": [
    "# 18.\n",
    "text = input (\"Enter your Text: \")\n",
    "vowel = 0\n",
    "consonent = 0\n",
    "for i in text:\n",
    "    if i == \"A\" or i == \"a\" or i == \"E\" or i == \"e\" or i == \"I\" or i == \"i\" or i == \"U\" or i == \"u\" or i ==\"o\" or i ==\"O\":\n",
    "        vowel +=1\n",
    "    else:\n",
    "        consonent +=1\n",
    "print (\"Vowel = {} \\nConsonet = {}\".format(vowel, consonent))\n",
    "    \n"
   ]
  },
  {
   "cell_type": "code",
   "execution_count": 6,
   "metadata": {},
   "outputs": [
    {
     "name": "stdout",
     "output_type": "stream",
     "text": [
      "Enter Text: ala\n",
      "Text ala is Palindrome\n"
     ]
    }
   ],
   "source": [
    "#19. Palindrome Tester\n",
    "def PalindromeTester(text):\n",
    "    text2 = text [::-1]\n",
    "    if text2 == text:\n",
    "        return True\n",
    "    else:\n",
    "        return False\n",
    "text = input (\"Enter Text: \")\n",
    "print(\"Text {} is Palindrome\".format(text)) if PalindromeTester(text) else print (\"Text {} is not a Palindrome\".format(text))\n"
   ]
  },
  {
   "cell_type": "code",
   "execution_count": 47,
   "metadata": {},
   "outputs": [
    {
     "name": "stdout",
     "output_type": "stream",
     "text": [
      "Enter Text: I am Hamza\n",
      " Alphabets = 8 \n",
      " Numbers = 0 \n",
      " Space = 2 \n",
      " Special Chracter = 0\n"
     ]
    }
   ],
   "source": [
    "#20. Count Numbers, Alphabets, and Special Character\n",
    "Text = input (\"Enter Text: \")\n",
    "letter, number, spaces , special = 0,0,0,0\n",
    "for i in Text:\n",
    "    if i.isalpha():\n",
    "        letter+=1\n",
    "    elif i.isspace():\n",
    "        spaces +=1\n",
    "    elif i.isnumeric():\n",
    "        number +=1\n",
    "    else:\n",
    "        special+=1\n",
    "print(\" Alphabets = {} \\n Numbers = {} \\n Space = {} \\n Special Chracter = {}\".format(letter,number,spaces,special))\n"
   ]
  },
  {
   "cell_type": "code",
   "execution_count": 55,
   "metadata": {},
   "outputs": [
    {
     "name": "stdout",
     "output_type": "stream",
     "text": [
      "\n",
      "* \n",
      "* * \n",
      "* * * \n",
      "* * * * \n",
      "* * * * * \n",
      "* * * * \n",
      "* * * \n",
      "* * \n",
      "* \n"
     ]
    }
   ],
   "source": [
    "#21. Pyhton Program to construct pattern\n",
    "for i in range(1,6):\n",
    "    for x in range(1,i):\n",
    "        print(\"*\",end=\" \")\n",
    "    print(\"\")\n",
    "for i in range(6,1,-1):\n",
    "    for x in range(1,i):\n",
    "        print(\"*\",end=\" \")\n",
    "    print(\"\")\n"
   ]
  },
  {
   "cell_type": "code",
   "execution_count": 56,
   "metadata": {},
   "outputs": [
    {
     "name": "stdout",
     "output_type": "stream",
     "text": [
      "\n",
      "1 \n",
      "1 2 \n",
      "1 2 3 \n",
      "1 2 3 4 \n",
      "1 2 3 4 5 \n",
      "1 2 3 4 \n",
      "1 2 3 \n",
      "1 2 \n",
      "1 \n"
     ]
    }
   ],
   "source": [
    "#22. Pyhton Program to construct pattern\n",
    "for i in range(1,6):\n",
    "    for x in range(1,i):\n",
    "        print(x,end=\" \")\n",
    "    print(\"\")\n",
    "for i in range(6,1,-1):\n",
    "    for x in range(1,i):\n",
    "        print(x,end=\" \")\n",
    "    print(\"\")"
   ]
  },
  {
   "cell_type": "code",
   "execution_count": 60,
   "metadata": {},
   "outputs": [
    {
     "name": "stdout",
     "output_type": "stream",
     "text": [
      "Enter Number: 9\n",
      "1 \n",
      "2 2 \n",
      "3 3 3 \n",
      "4 4 4 4 \n",
      "5 5 5 5 5 \n",
      "6 6 6 6 6 6 \n",
      "7 7 7 7 7 7 7 \n",
      "8 8 8 8 8 8 8 8 \n",
      "9 9 9 9 9 9 9 9 9 \n"
     ]
    }
   ],
   "source": [
    "#23. Pyhton Program to construct pattern\n",
    "n = int(input (\"Enter Number: \"))\n",
    "for i in range(1,n+1):\n",
    "    for x in range(1,i+1):\n",
    "        print(i,end=\" \")\n",
    "    print(\"\")"
   ]
  }
 ],
 "metadata": {
  "kernelspec": {
   "display_name": "Python 3",
   "language": "python",
   "name": "python3"
  },
  "language_info": {
   "codemirror_mode": {
    "name": "ipython",
    "version": 3
   },
   "file_extension": ".py",
   "mimetype": "text/x-python",
   "name": "python",
   "nbconvert_exporter": "python",
   "pygments_lexer": "ipython3",
   "version": "3.7.3"
  }
 },
 "nbformat": 4,
 "nbformat_minor": 2
}
